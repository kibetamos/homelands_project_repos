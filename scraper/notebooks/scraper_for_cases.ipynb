{
 "cells": [
  {
   "cell_type": "code",
   "execution_count": null,
   "id": "b960d13c",
   "metadata": {},
   "outputs": [
    {
     "ename": "",
     "evalue": "",
     "output_type": "error",
     "traceback": [
      "\u001b[1;31mRunning cells with 'Python 3.8.8 ('website-django-xIgc0qTx')' requires ipykernel package.\n",
      "Run the following command to install 'ipykernel' into the Python environment. \n",
      "Command: 'c:/Users/AK/.virtualenvs/website-django-xIgc0qTx/Scripts/python.exe -m pip install ipykernel -U --force-reinstall'"
     ]
    }
   ],
   "source": [
    "import requests\n",
    "from bs4 import BeautifulSoup\n",
    "import json\n",
    "\n",
    "for i in range(2234776, 234790):\n",
    "\n",
    "\n",
    "  urls = \"http://kenyalaw.org/caselaw/cases/view/\"+str(i)\n",
    "      # website = 'http://kenyalaw.org/caselaw/cases/view/'+str(i)\n",
    "      # \"http://kenyalaw.org/caselaw/cases/view/233924/\",\n",
    "      # \"http://kenyalaw.org/caselaw/cases/view/234083/\",\n",
    "      # \"http://kenyalaw.org/caselaw/cases/view/234154/\",\n",
    "      # \"http://kenyalaw.org/caselaw/cases/view/233918\",\n",
    "      # \"http://kenyalaw.org/caselaw/cases/view/234104/\"\n",
    "  page = requests.get(urls)\n",
    "  soup = BeautifulSoup(page.content, 'html.parser')\n",
    "\n",
    "  def get_case(url):\n",
    "      case = {}\n",
    "      # page = requests.get(url)\n",
    "      # soup = BeautifulSoup(page.content, 'html.parser')\n",
    "      #body = soup.body\n",
    "      meta_info = get_meta_info(soup)\n",
    "      case.update({'meta_info':meta_info})\n",
    "      parties_info = get_parties(soup)\n",
    "      case.update({'parties_info':parties_info})\n",
    "      judgement = get_judgement(soup)\n",
    "      case.update({'judgement':judgement})\n",
    "      conclusion = get_conclusion(soup)\n",
    "      case.update({'conclusion':conclusion})\n",
    "      return case\n",
    "\n",
    "  def get_meta_info(body):\n",
    "      meta_info = {}\n",
    "      meta_table = body.find_all(\"table\", class_=\"meta_info\")\n",
    "      meta_rows =  meta_table[0].find_all(\"tr\")[1:]\n",
    "      for meta_row in meta_rows:\n",
    "          key = meta_row.find(\"th\").get_text()\n",
    "          value = meta_row.find(\"td\").get_text()\n",
    "          meta_info.update({key:value})\n",
    "      return meta_info\n",
    "\n",
    "\n",
    "  def get_parties(soup):\n",
    "      parties_info = {}\n",
    "      parties_div = soup.find_all(\"div\", class_=\"akn-div parties-listing\")\n",
    "      parties_listing = parties_div[0].find_all(\"div\", class_=\"akn-div party-listing\")\n",
    "      for party_listing in parties_listing:\n",
    "          parties_details = party_listing.find_all(\"div\")\n",
    "          value = parties_details[0].get_text()\n",
    "          key = parties_details[-1].get_text()\n",
    "          parties_info.update({key:value})\n",
    "      return parties_info \n",
    "\n",
    "  def get_judgement(soup):\n",
    "      judgement = []\n",
    "      judgement_div = soup.find_all(\"div\", class_=\"akn-judgmentBody\")[0]\n",
    "      arguments_divs = judgement_div.find_all(\"div\", class_=\"akn-paragraph\")\n",
    "      for argument in arguments_divs:\n",
    "          judgement.append(argument.get_text().strip('\\n'))\n",
    "      return judgement\n",
    "\n",
    "  def get_conclusion(soup):\n",
    "      conclusion_div = soup.find_all(\"div\", class_=\"akn-conclusions\")[0]\n",
    "      conclusion = conclusion_div.get_text(separator=' ').strip('\\n')\n",
    "      return conclusion\n",
    "\n",
    "\n",
    "  def main():\n",
    "      cases = []\n",
    "      for url in urls:\n",
    "          case= get_case(url)\n",
    "          cases.append(case)\n",
    "      \n",
    "      with open('cas.json', 'w', encoding='utf-8') as f:\n",
    "          json.dump(cases, f, ensure_ascii=False, indent=4)\n",
    "      # print(cases)\n",
    "\n",
    "  if __name__ == '__main__':\n",
    "      main()"
   ]
  },
  {
   "cell_type": "code",
   "execution_count": null,
   "id": "b1583d83",
   "metadata": {},
   "outputs": [],
   "source": []
  }
 ],
 "metadata": {
  "kernelspec": {
   "display_name": "Python 3.8.8 ('website-django-xIgc0qTx')",
   "language": "python",
   "name": "python3"
  },
  "language_info": {
   "codemirror_mode": {
    "name": "ipython",
    "version": 3
   },
   "file_extension": ".py",
   "mimetype": "text/x-python",
   "name": "python",
   "nbconvert_exporter": "python",
   "pygments_lexer": "ipython3",
   "version": "3.8.8"
  },
  "vscode": {
   "interpreter": {
    "hash": "576dfc30a38fadc13870a056d78cbf2833fba133eb867e8dbb06d1be7d6fdae6"
   }
  }
 },
 "nbformat": 4,
 "nbformat_minor": 5
}
